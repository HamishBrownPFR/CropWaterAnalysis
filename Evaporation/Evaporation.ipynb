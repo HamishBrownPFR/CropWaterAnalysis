{
 "cells": [
  {
   "cell_type": "code",
   "execution_count": 1,
   "metadata": {},
   "outputs": [],
   "source": [
    "import datetime\n",
    "import pandas as pd\n",
    "import numpy as np\n",
    "import matplotlib.pyplot as plt\n",
    "import matplotlib.dates as mdates\n",
    "%matplotlib inline\n",
    "import GraphHelpers as GH\n",
    "import ETFunctions as et\n",
    "import MathsUtilities as MUte"
   ]
  },
  {
   "cell_type": "markdown",
   "metadata": {},
   "source": [
    "## Bring in the data needed"
   ]
  },
  {
   "cell_type": "code",
   "execution_count": 2,
   "metadata": {},
   "outputs": [],
   "source": [
    "MetData = pd.read_pickle('BroadFieldsMet.pkl')\n",
    "DaylightIndex = MetData.IncomingRadnMJ.where(MetData.IncomingRadnMJ>0.002)\n",
    "DaylightIndex.dropna(inplace=True)\n",
    "DaylightIndex = DaylightIndex.index.tolist()\n",
    "MetData.loc[:,'satVP'] = [et.saturated_vapor_pressure(MetData.loc[x,'AirTemperature'])/10 for x in MetData.index]\n",
    "MetData.loc[:,'VP'] = [MetData.loc[x,'satVP']*MetData.loc[x,'RelativeHumidity']/100 for x in MetData.index]\n",
    "MetData.loc[:,'VPD'] = MetData.satVP.subtract(MetData.VP)\n",
    "\n",
    "DailyMet = MetData.IncomingRadnMJ.resample('D').sum()\n",
    "DailyMet = pd.DataFrame(index=DailyMet.index,data=DailyMet.values,columns=['Radn'])\n",
    "DailyMet.loc[:,'Temp'] = MetData.AirTemperature.resample('D').mean()\n",
    "DailyMet.loc[:,'RH'] = MetData.RelativeHumidity.resample('D').mean()\n",
    "DailyMet.loc[:,'PET'] = [et.Priestly_TaylorEO(DailyMet.loc[x,'Radn'],\n",
    "                                    DailyMet.loc[x,'Temp'],\n",
    "                                    1.3,'Total') for x in DailyMet.index]\n",
    "DailyMet.loc[:,'VPD'] = MetData.loc[DaylightIndex,'VPD'].resample('D').mean()\n",
    "MinVPD = 0.1\n",
    "DailyMet.loc[:,'VPD'] = DailyMet.loc[:,'VPD'].where(DailyMet.loc[:,'VPD']>MinVPD,MinVPD)\n",
    "AccumPET = DailyMet.PET.cumsum()"
   ]
  },
  {
   "cell_type": "code",
   "execution_count": 3,
   "metadata": {},
   "outputs": [],
   "source": [
    "#Bring in soil water use data.\n",
    "LucWU = pd.read_pickle('.\\LucerneAndPasture\\DataFrames\\LucWU.pkl').cumsum()\n",
    "RyeWU = pd.read_pickle('.\\LucerneAndPasture\\DataFrames\\RyeWU.pkl').cumsum()\n",
    "LucWU = LucWU.where(LucWU.notna(),0)\n",
    "RyeWU = RyeWU.where(RyeWU.notna(),0)"
   ]
  },
  {
   "cell_type": "code",
   "execution_count": 4,
   "metadata": {},
   "outputs": [],
   "source": [
    "StartDate = LucWU.index.min()\n",
    "EndDate = LucWU.index.max()\n",
    "AllDays = AccumPET.loc[StartDate:EndDate].index\n",
    "LucWUDaily = pd.DataFrame(index = AllDays,columns = LucWU.columns)\n",
    "RyeWUDaily = pd.DataFrame(index = AllDays,columns = RyeWU.columns)\n",
    "LucWU.loc[:,'AccumPET'] = [AccumPET[x] for x in LucWU.index]\n",
    "RyeWU.loc[:,'AccumPET'] = [AccumPET[x] for x in RyeWU.index]\n",
    "for col in LucWUDaily.columns:\n",
    "    LucWUDaily.loc[:,col] = np.interp(AccumPET.loc[AllDays].values,\n",
    "                                      LucWU.AccumPET,\n",
    "                                      pd.to_numeric(LucWU.loc[:,col]))\n",
    "for col in RyeWUDaily.columns:\n",
    "    RyeWUDaily.loc[:,col] = np.interp(AccumPET.loc[AllDays].values,\n",
    "                                      RyeWU.AccumPET,\n",
    "                                      pd.to_numeric(RyeWU.loc[:,col]))"
   ]
  },
  {
   "cell_type": "code",
   "execution_count": 5,
   "metadata": {
    "scrolled": true
   },
   "outputs": [],
   "source": [
    "LucWU = -LucWUDaily.diff()\n",
    "RyeWU = -RyeWUDaily.diff()\n",
    "\n",
    "WheatDaylightIndex = np.load('.\\Wheat\\DataFrames\\DaylightIndex.npy')\n",
    "WheatHourlyWU = pd.read_pickle('.\\Wheat\\DataFrames\\HourlyWUmm.pkl')\n",
    "WheatWU = pd.concat([WheatHourlyWU.reindex(WheatDaylightIndex).resample('d').sum()],axis=1,keys=['Wheat'],names=['Crop'])\n",
    "\n",
    "FodderBeetDaylightIndex = np.load('.\\FodderBeet\\DataFrames\\DaylightIndex.npy')\n",
    "FodderBeetHourlyWU = pd.read_pickle('.\\FodderBeet\\DataFrames\\HourlyWUmm.pkl')\n",
    "FodderBeetWU = pd.concat([FodderBeetHourlyWU.reindex(FodderBeetDaylightIndex).resample('d').sum()],axis=1,keys=['FodderBeet'],names=['Crop'])\n",
    "\n",
    "OatsDaylightIndex = np.load('.\\Oats\\DataFrames\\DaylightIndex.npy')\n",
    "OatsHourlyWU = pd.read_pickle('.\\Oats\\DataFrames\\HourlyWUmm.pkl')\n",
    "OatsWU = pd.concat([OatsHourlyWU.reindex(OatsDaylightIndex).resample('d').sum()],axis=1,keys=['Oats'],names=['Crop'])\n",
    "#OatsWU = pd.concat([pd.read_pickle('.\\Oats\\DataFrames\\DailyWU.pkl')],axis=1,keys=['Oats'],names=['Crop'])\n",
    "\n",
    "BarleyDaylightIndex = np.load('.\\Barley\\DataFrames\\DaylightIndex.npy')\n",
    "BarleyHourlyWU = pd.read_pickle('.\\Barley\\DataFrames\\HourlyWUmm.pkl') \n",
    "BarleyWU = pd.concat([BarleyHourlyWU.reindex(BarleyDaylightIndex).resample('d').sum()],axis=1,keys=['Barley'],names=['Crop'])\n",
    "#BarleyWU.columns = BarleyWU.columns.swaplevel('Irrigation','Cultivar')\n",
    "\n",
    "WU = pd.concat([WheatWU,FodderBeetWU,LucWU,RyeWU,OatsWU,BarleyWU],axis=1)\n",
    "WU.dropna(how='all',inplace=True)\n",
    "GH.SortFrame(WU)"
   ]
  },
  {
   "cell_type": "code",
   "execution_count": 6,
   "metadata": {},
   "outputs": [],
   "source": [
    "RTData = pd.read_csv('C:\\\\GitHubRepos\\\\ApsimX\\\\Tests\\\\Validation\\\\SoilWater\\\\a_block_obs_soilwater.txt',\n",
    "                     delim_whitespace=True,skiprows=[1])\n",
    "RTData.set_index(['SimulationName','Clock.Today'],inplace=True)"
   ]
  },
  {
   "cell_type": "code",
   "execution_count": 7,
   "metadata": {},
   "outputs": [],
   "source": [
    "ABlock = pd.read_csv('C:\\\\GitHubRepos\\\\CropWaterAnalysis\\\\Evaporation\\\\AblockResiduesSWC.dat',\n",
    "            skiprows=[0,2,3])\n",
    "ABlock.set_index(['TIMESTAMP'],inplace=True)\n",
    "ABlock.drop(['RECORD'],inplace=True,axis=1)\n",
    "ABlock.columns.name = 'ColumnID' \n",
    "ABlockIndex = pd.read_excel('C:\\\\GitHubRepos\\\\CropWaterAnalysis\\\\Evaporation\\\\DataIndex.xlsx')\n",
    "ABlockIndex.set_index('ColumnID',inplace=True)\n",
    "JoinIndex = ABlockIndex.transpose().loc[('Treatment','Depth','Block'),:]"
   ]
  },
  {
   "cell_type": "code",
   "execution_count": 8,
   "metadata": {},
   "outputs": [],
   "source": [
    "Intrum = pd.concat([JoinIndex,ABlock])\n",
    "Intrum = Intrum.transpose()\n",
    "Intrum.set_index(['Treatment','Depth','Block'],inplace=True,drop=True)\n",
    "ResidueExptSWC = Intrum.transpose().iloc[:,:56].copy()\n",
    "GH.SortFrame(ResidueExptSWC)"
   ]
  },
  {
   "cell_type": "code",
   "execution_count": 9,
   "metadata": {},
   "outputs": [],
   "source": [
    "Treatments = ResidueExptSWC.columns.get_level_values(0).drop_duplicates().values\n",
    "Depths = ResidueExptSWC.columns.get_level_values(1).drop_duplicates().values"
   ]
  },
  {
   "cell_type": "code",
   "execution_count": 13,
   "metadata": {},
   "outputs": [
    {
     "data": {
      "text/plain": [
       "array(['mown and baled', 'mown stubble lying',\n",
       "       'mown, baled and cultivated', 'stubble standing'], dtype=object)"
      ]
     },
     "execution_count": 13,
     "metadata": {},
     "output_type": "execute_result"
    }
   ],
   "source": [
    "Treatments"
   ]
  },
  {
   "cell_type": "code",
   "execution_count": null,
   "metadata": {},
   "outputs": [],
   "source": [
    "Graph = plt.figure(figsize=(18,20))\n",
    "pos=1\n",
    "for D in Depths:\n",
    "    Graph.add_subplot(1,3,pos)\n",
    "    for T in Treatments:\n",
    "        plt.plot(ResidueExptSWC.index,ResidueExptSWC.loc[:,(T,D)])\n",
    "    pos+=1"
   ]
  },
  {
   "cell_type": "code",
   "execution_count": null,
   "metadata": {},
   "outputs": [],
   "source": []
  },
  {
   "cell_type": "code",
   "execution_count": null,
   "metadata": {
    "scrolled": true
   },
   "outputs": [],
   "source": [
    "Evap = pd.DataFrame(index = RTData.index,\n",
    "                    data = RTData.loc[:,'Soil.SoilWater.SWmm(1)'].diff().values,\n",
    "                    columns = ['0-20'])\n",
    "Evap.loc[:,'0-40'] = RTData.loc[:,'Soil.SoilWater.SWmm(1)'].diff() + RTData.loc[:,'Soil.SoilWater.SWmm(2)'].diff() \n",
    "Evap.loc[:,'0-60'] = RTData.loc[:,'Soil.SoilWater.SWmm(1)'].diff() + RTData.loc[:,'Soil.SoilWater.SWmm(2)'].diff() + RTData.loc[:,'Soil.SoilWater.SWmm(3)'].diff() "
   ]
  },
  {
   "cell_type": "code",
   "execution_count": null,
   "metadata": {},
   "outputs": [],
   "source": [
    "DailyRain = MetData.Rainfall.resample('D').sum()\n",
    "Rainfall = [DailyRain[x[1]]<0.5 for x in Evap.index]"
   ]
  },
  {
   "cell_type": "code",
   "execution_count": null,
   "metadata": {},
   "outputs": [],
   "source": [
    "Treatments = Evap.index.get_level_values(0).drop_duplicates().values\n",
    "for treat in Treatments:\n",
    "    plt.plot(Evap.loc[treat,'0-20'])\n",
    "#Evap.loc[Rainfall,:].plot()"
   ]
  },
  {
   "cell_type": "code",
   "execution_count": null,
   "metadata": {},
   "outputs": [],
   "source": [
    "Evap.loc[treat,'0-20']"
   ]
  }
 ],
 "metadata": {
  "kernelspec": {
   "display_name": "Python 3",
   "language": "python",
   "name": "python3"
  },
  "language_info": {
   "codemirror_mode": {
    "name": "ipython",
    "version": 3
   },
   "file_extension": ".py",
   "mimetype": "text/x-python",
   "name": "python",
   "nbconvert_exporter": "python",
   "pygments_lexer": "ipython3",
   "version": "3.6.5"
  }
 },
 "nbformat": 4,
 "nbformat_minor": 2
}
