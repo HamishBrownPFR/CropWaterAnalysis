{
 "cells": [
  {
   "cell_type": "markdown",
   "metadata": {},
   "source": [
    "## Bring in libraries and dataframes and set indexes\n"
   ]
  },
  {
   "cell_type": "code",
   "execution_count": 1,
   "metadata": {},
   "outputs": [],
   "source": [
    "import datetime\n",
    "import pandas as pd\n",
    "import numpy as np"
   ]
  },
  {
   "cell_type": "code",
   "execution_count": 95,
   "metadata": {
    "scrolled": true
   },
   "outputs": [],
   "source": [
    "#Read in data\n",
    "CS616Data=pd.read_csv('K:\\CPDiary\\Data\\FRNL\\CS 2.12\\YEAR 2\\SoilMoisture\\Logger A (RS Oats)_Oats616.dat', #specify file path for data to read in\n",
    "                          parse_dates=True, #tell the function to parse date columns to datetime formats\n",
    "                          skiprows = [0,2,3], #leave out rows 1, 3 and 4 which have redundant information\n",
    "                          index_col = 0, #Use the first column, which is Date, as an index\n",
    "                          na_values = 'NAN')\n",
    "CS616Data.drop(columns = ['RECORD'],inplace=True)\n",
    "CS650Data = pd.read_csv('K:\\CPDiary\\Data\\FRNL\\CS 2.12\\YEAR 2\\SoilMoisture\\Logger A (RS Oats)_Oats650.dat', #specify file path for data to read in\n",
    "                          parse_dates=True, #tell the function to parse date columns to datetime formats\n",
    "                          skiprows = [0,2,3], #leave out rows 1, 3 and 4 which have redundant information\n",
    "                          index_col = 0, #Use the first column, which is Date, as an index\n",
    "                          na_values = 'NAN')\n",
    "CS650Data.drop(columns= 'RECORD',inplace=True)\n",
    "AllData = CS650Data.join(CS616Data)\n",
    "#Bring in index data\n",
    "AllDataIndex = pd.read_excel('K:\\CPDiary\\Data\\FRNL\\CS 2.12\\YEAR 2\\SoilMoisture\\TDRs layout RSwintercereals.xlsx',\n",
    "             index_col='RawName')\n",
    "AllDataIndex.drop(columns=['R_Name','Sensor','Description','Nitrogen'],inplace=True)\n",
    "#AllDataIndex.Nitrogen = [str(AllDataIndex.loc[x,'Nitrogen'])for x in AllDataIndex.index]\n",
    "# #Apply indexes to data\n",
    "AllDataTransposed = AllData.transpose()\n",
    "AllDataIndexed = pd.concat([AllDataIndex,AllDataTransposed], axis=1,sort=False)\n",
    "AllDataIndexed.index.name='ColumnHeader'\n",
    "AllDataIndexed.set_index(['Measurement','Depth','Sowing','Crop','Plot','Block'], \n",
    "                         append=False, inplace=True)\n",
    "AllDataIndexed.sort_index(inplace=True)\n",
    "Data=AllDataIndexed.transpose()\n",
    "Data.index = pd.to_datetime(Data.index)  ## for some reason the concat function changes the data type on the date indes so need to change it back\n",
    "Data.columns = Data.columns.droplevel(level=4).reorder_levels(['Measurement', 'Depth',  'Sowing', 'Crop','Block'])\n",
    "Data = Data.loc[:'2016-11-29',:]"
   ]
  },
  {
   "cell_type": "markdown",
   "metadata": {},
   "source": [
    "## Export volumetric water content dataframes"
   ]
  },
  {
   "cell_type": "code",
   "execution_count": 96,
   "metadata": {},
   "outputs": [],
   "source": [
    "VWC = Data.VWC.to_pickle('.\\DataFrames\\SoilVWC.pkl')"
   ]
  },
  {
   "cell_type": "markdown",
   "metadata": {},
   "source": [
    "## Export Temperature data frame"
   ]
  },
  {
   "cell_type": "code",
   "execution_count": 62,
   "metadata": {},
   "outputs": [],
   "source": [
    "Temp = Data.T\n",
    "Temp.to_pickle('.\\DataFrames\\SoilTemp.pkl')"
   ]
  },
  {
   "cell_type": "markdown",
   "metadata": {},
   "source": [
    "## Export Electrical Conductivity Data frame"
   ]
  },
  {
   "cell_type": "code",
   "execution_count": 63,
   "metadata": {},
   "outputs": [],
   "source": [
    "EC = Data.EC\n",
    "EC.to_pickle('.\\DataFrames\\SoilEC.pkl')"
   ]
  },
  {
   "cell_type": "markdown",
   "metadata": {},
   "source": [
    "## Export Permittivity Data frame"
   ]
  },
  {
   "cell_type": "code",
   "execution_count": 64,
   "metadata": {},
   "outputs": [],
   "source": [
    "Perm = Data.Pt\n",
    "Perm.to_pickle('.\\DataFrames\\SoilPerm.pkl')"
   ]
  },
  {
   "cell_type": "markdown",
   "metadata": {},
   "source": [
    "## Export Period Data Frame"
   ]
  },
  {
   "cell_type": "code",
   "execution_count": 65,
   "metadata": {},
   "outputs": [],
   "source": [
    "Period = Data.Pd\n",
    "Period.to_pickle('.\\DataFrames\\SoilPeriod.pkl')"
   ]
  },
  {
   "cell_type": "markdown",
   "metadata": {},
   "source": [
    "## Export Voltage ratio data"
   ]
  },
  {
   "cell_type": "code",
   "execution_count": 66,
   "metadata": {},
   "outputs": [],
   "source": [
    "VR = Data.VR.loc['2014-11-05 08:00:00':]\n",
    "VR.to_pickle('.\\DataFrames\\SoilVR.pkl')"
   ]
  }
 ],
 "metadata": {
  "kernelspec": {
   "display_name": "Python 3",
   "language": "python",
   "name": "python3"
  },
  "language_info": {
   "codemirror_mode": {
    "name": "ipython",
    "version": 3
   },
   "file_extension": ".py",
   "mimetype": "text/x-python",
   "name": "python",
   "nbconvert_exporter": "python",
   "pygments_lexer": "ipython3",
   "version": "3.6.5"
  }
 },
 "nbformat": 4,
 "nbformat_minor": 1
}
